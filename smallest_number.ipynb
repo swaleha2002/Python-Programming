{
 "cells": [
  {
   "cell_type": "markdown",
   "id": "7bef4f76-3518-436c-876a-22d9b036bcb4",
   "metadata": {},
   "source": [
    "# Python program to find smallest number in a list"
   ]
  },
  {
   "cell_type": "markdown",
   "id": "1b7b96f2-1de6-4a3d-9c06-0baeb9649cc7",
   "metadata": {},
   "source": [
    "# Using min()"
   ]
  },
  {
   "cell_type": "code",
   "execution_count": 1,
   "id": "51baff8c-2292-4df4-bd88-af5c8bf6ab5e",
   "metadata": {},
   "outputs": [
    {
     "name": "stdout",
     "output_type": "stream",
     "text": [
      "[8, 3, 5, 1, 9, 12]\n"
     ]
    }
   ],
   "source": [
    "a = [8, 3, 5, 1, 9, 12]\n",
    "smallest = min(a)\n",
    "print(a)"
   ]
  },
  {
   "cell_type": "markdown",
   "id": "a36b1acf-3558-4890-9213-0a47e8bd412a",
   "metadata": {},
   "source": [
    "# Using a For Loop"
   ]
  },
  {
   "cell_type": "code",
   "execution_count": 3,
   "id": "6e61df49-e9c8-4d88-a462-a8b93d9564f3",
   "metadata": {},
   "outputs": [
    {
     "name": "stdout",
     "output_type": "stream",
     "text": [
      "1\n"
     ]
    }
   ],
   "source": [
    "a = [8, 3, 5, 1, 9, 12]\n",
    "small = a[0]\n",
    "for i in a:\n",
    "    if i < small:\n",
    "        small = i\n",
    "print(small)\n",
    "    "
   ]
  },
  {
   "cell_type": "code",
   "execution_count": null,
   "id": "d4056fbf-1cb2-46d4-b505-29df793c8e79",
   "metadata": {},
   "outputs": [],
   "source": []
  }
 ],
 "metadata": {
  "kernelspec": {
   "display_name": "Python 3 (ipykernel)",
   "language": "python",
   "name": "python3"
  },
  "language_info": {
   "codemirror_mode": {
    "name": "ipython",
    "version": 3
   },
   "file_extension": ".py",
   "mimetype": "text/x-python",
   "name": "python",
   "nbconvert_exporter": "python",
   "pygments_lexer": "ipython3",
   "version": "3.11.7"
  }
 },
 "nbformat": 4,
 "nbformat_minor": 5
}
