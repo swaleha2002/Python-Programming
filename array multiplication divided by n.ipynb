{
 "cells": [
  {
   "cell_type": "markdown",
   "id": "dff0bcc3-6a74-41e2-9490-0289a0276963",
   "metadata": {},
   "source": [
    "# Python Program for Find remainder of array multiplication divided by n"
   ]
  },
  {
   "cell_type": "markdown",
   "id": "5b60b768-9e6b-4c7e-9dfe-d73450f0c84c",
   "metadata": {},
   "source": [
    "Input: arr[] = {100, 10, 5, 25, 35, 14}, \n",
    "            n = 11\n",
    "Output: 9\n",
    "Explanation: 100 x 10 x 5 x 25 x 35 x 14 = 61250000 % 11 = 9\n",
    "Input : arr[] = {100, 10}, \n",
    "            n = 5 \n",
    "Output : 0\n",
    "Explanation: 100 x 10 = 1000 % 5 = 0"
   ]
  },
  {
   "cell_type": "code",
   "execution_count": null,
   "id": "216cf8da-03e8-4e3e-8002-ab2cc6d51d7d",
   "metadata": {},
   "outputs": [],
   "source": [
    "def findRemainder(arr,l,n):\n",
    "    prod = 1\n",
    "    for i in range(len):\n",
    "        prod = prod * arr[i]\n",
    "    return prod  % n\n",
    "\n",
    "arr = [100,10,5,25,35,14]\n",
    "len = len"
   ]
  }
 ],
 "metadata": {
  "kernelspec": {
   "display_name": "Python 3 (ipykernel)",
   "language": "python",
   "name": "python3"
  },
  "language_info": {
   "codemirror_mode": {
    "name": "ipython",
    "version": 3
   },
   "file_extension": ".py",
   "mimetype": "text/x-python",
   "name": "python",
   "nbconvert_exporter": "python",
   "pygments_lexer": "ipython3",
   "version": "3.11.7"
  }
 },
 "nbformat": 4,
 "nbformat_minor": 5
}
