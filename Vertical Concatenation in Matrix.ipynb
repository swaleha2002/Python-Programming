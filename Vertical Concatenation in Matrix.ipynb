{
 "cells": [
  {
   "cell_type": "markdown",
   "id": "65f19177-fc4a-4722-88ed-69b6e5ff2251",
   "metadata": {},
   "source": [
    "# Python – Vertical Concatenation in Matrix"
   ]
  },
  {
   "cell_type": "raw",
   "id": "9d987a03-4ef9-4db4-b693-72268b08a405",
   "metadata": {},
   "source": [
    "Input : [[“Gfg”, “good”], [“is”, “for”]] \n",
    "Output : [‘Gfgis’, ‘goodfor’] \n",
    "Explanation : Column wise concatenated Strings, “Gfg” concatenated with “is”, and so on. "
   ]
  },
  {
   "cell_type": "markdown",
   "id": "01d9a50b-def9-48fc-b91a-cd8683f0307d",
   "metadata": {},
   "source": [
    "# Using loop"
   ]
  },
  {
   "cell_type": "code",
   "execution_count": 15,
   "id": "cefc498c-c202-431f-92da-d7c8a919d7a9",
   "metadata": {},
   "outputs": [
    {
     "name": "stdout",
     "output_type": "stream",
     "text": [
      "The original list : [['Gfg', 'good'], ['is', 'for'], ['Best']]\n",
      "List after column Concatenation : ['GfgisBest', 'goodfor']\n"
     ]
    }
   ],
   "source": [
    "# initializing lists\n",
    "test_list = [[\"Gfg\", \"good\"], [\"is\", \"for\"], [\"Best\"]]\n",
    "# printing original list\n",
    "print(\"The original list : \" + str(test_list))\n",
    "\n",
    "# using loop for iteration\n",
    "res = []\n",
    "N = 0\n",
    "while N != len(test_list):\n",
    "    temp = ''\n",
    "    for idx  in test_list:\n",
    "      # checking for valid index / column\n",
    "        try: temp = temp + idx[N]\n",
    "        except IndexError: pass\n",
    "    res.append(temp)\n",
    "    N = N + 1\n",
    " \n",
    "res = [ele for ele in res if ele]\n",
    " \n",
    "# printing result \n",
    "print(\"List after column Concatenation : \" + str(res))        "
   ]
  },
  {
   "cell_type": "code",
   "execution_count": null,
   "id": "0a98e2e7-d523-4c5c-ad37-0942eba4397f",
   "metadata": {},
   "outputs": [],
   "source": []
  }
 ],
 "metadata": {
  "kernelspec": {
   "display_name": "Python 3 (ipykernel)",
   "language": "python",
   "name": "python3"
  },
  "language_info": {
   "codemirror_mode": {
    "name": "ipython",
    "version": 3
   },
   "file_extension": ".py",
   "mimetype": "text/x-python",
   "name": "python",
   "nbconvert_exporter": "python",
   "pygments_lexer": "ipython3",
   "version": "3.11.7"
  }
 },
 "nbformat": 4,
 "nbformat_minor": 5
}
