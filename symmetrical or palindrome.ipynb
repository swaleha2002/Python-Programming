{
 "cells": [
  {
   "cell_type": "markdown",
   "id": "0800f4dc-84c1-4172-a572-ea8d36de198c",
   "metadata": {},
   "source": [
    "# Python program to check whether the string is Symmetrical or Palindrome"
   ]
  },
  {
   "cell_type": "markdown",
   "id": "b401b55e-ac0f-4899-8b8b-2df154e556d0",
   "metadata": {},
   "source": [
    "A string is said to be symmetrical if both the halves of the string are the same and a string is said to be a palindrome string if one half of the string is the reverse of the other half or if a string appears the same when read forward or backward."
   ]
  },
  {
   "cell_type": "markdown",
   "id": "48831092-bc1f-4f2d-bff3-f99b72ca2375",
   "metadata": {},
   "source": [
    "Example:\n",
    "Input: khokho\n",
    "Output: \n",
    "The entered string is symmetrical\n",
    "The entered string is not palindrome\n",
    "\n",
    "Input:amaama\n",
    "Output:\n",
    "The entered string is symmetrical\n",
    "The entered string is palindrome"
   ]
  },
  {
   "cell_type": "code",
   "execution_count": 6,
   "id": "f576c79e-2568-4ad3-b287-fd028f5a616f",
   "metadata": {},
   "outputs": [
    {
     "name": "stdout",
     "output_type": "stream",
     "text": [
      "Symmetrical\n",
      "Palindrome\n"
     ]
    }
   ],
   "source": [
    "def palindrome(s):\n",
    "    return s == s[::-1]\n",
    "\n",
    "def symmetrical(s):\n",
    "    length = len(s)\n",
    "    mid = length // 2\n",
    "    if length % 2 == 0:\n",
    "        return s[:mid] == s[mid:]\n",
    "    else:\n",
    "        return s[:mid] == s[mid+1:]\n",
    "\n",
    "s = \"amaama\"\n",
    "if symmetrical(s):\n",
    "    print(\"Symmetrical\")\n",
    "else:\n",
    "    print(\"Not Symmetrical\")\n",
    "\n",
    "if palindrome(s):\n",
    "    print(\"Palindrome\")\n",
    "else:\n",
    "    print(\"Not Palindrome\")\n"
   ]
  },
  {
   "cell_type": "code",
   "execution_count": null,
   "id": "fd28721b-3a55-4b6b-ab45-c6af09594563",
   "metadata": {},
   "outputs": [],
   "source": [
    "s = \"amaama\"\n",
    "length = len(s)\n",
    "    mid = length // 2\n",
    "    if length % 2 == 0:\n",
    "        return s[:mid] == s[mid:]\n",
    "    else:\n",
    "        return s[:mid] == s[mid+1:]"
   ]
  }
 ],
 "metadata": {
  "kernelspec": {
   "display_name": "Python 3 (ipykernel)",
   "language": "python",
   "name": "python3"
  },
  "language_info": {
   "codemirror_mode": {
    "name": "ipython",
    "version": 3
   },
   "file_extension": ".py",
   "mimetype": "text/x-python",
   "name": "python",
   "nbconvert_exporter": "python",
   "pygments_lexer": "ipython3",
   "version": "3.11.7"
  }
 },
 "nbformat": 4,
 "nbformat_minor": 5
}
