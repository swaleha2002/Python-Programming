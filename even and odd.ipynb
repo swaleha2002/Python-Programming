{
 "cells": [
  {
   "cell_type": "markdown",
   "id": "1814cc60-d674-4378-80b5-08c96e3b4611",
   "metadata": {},
   "source": [
    "# Even Numbers in list "
   ]
  },
  {
   "cell_type": "code",
   "execution_count": 3,
   "id": "6fa4b1a8-2337-472f-b28a-ba41c0785684",
   "metadata": {},
   "outputs": [
    {
     "name": "stdout",
     "output_type": "stream",
     "text": [
      "2\n",
      "4\n",
      "6\n",
      "8\n",
      "10\n"
     ]
    }
   ],
   "source": [
    "a = [1, 2, 3, 4, 5, 6, 7, 8, 9, 10]\n",
    "for val in a:\n",
    "    if val % 2 == 0:\n",
    "        print(val)"
   ]
  },
  {
   "cell_type": "markdown",
   "id": "d75b2247-4f9a-4310-96d3-2558a81c4245",
   "metadata": {},
   "source": [
    "# odd Numbers in list"
   ]
  },
  {
   "cell_type": "code",
   "execution_count": null,
   "id": "b49e5801-4574-456b-86fd-c9324205034e",
   "metadata": {},
   "outputs": [],
   "source": [
    "a =  [1, 2, 3, 4, 5, 6, 7, 8, 9, 10]\n",
    "for val in a:\n",
    "    if val % 2 != 0:\n",
    "        print"
   ]
  }
 ],
 "metadata": {
  "kernelspec": {
   "display_name": "Python 3 (ipykernel)",
   "language": "python",
   "name": "python3"
  },
  "language_info": {
   "codemirror_mode": {
    "name": "ipython",
    "version": 3
   },
   "file_extension": ".py",
   "mimetype": "text/x-python",
   "name": "python",
   "nbconvert_exporter": "python",
   "pygments_lexer": "ipython3",
   "version": "3.11.7"
  }
 },
 "nbformat": 4,
 "nbformat_minor": 5
}
