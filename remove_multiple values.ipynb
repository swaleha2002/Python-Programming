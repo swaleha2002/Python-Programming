{
 "cells": [
  {
   "cell_type": "markdown",
   "id": "99d80c7a-5784-444c-af65-d39a73f47f85",
   "metadata": {},
   "source": [
    "# Remove Multiple Elements from List in Python"
   ]
  },
  {
   "cell_type": "code",
   "execution_count": 4,
   "id": "ff9b9467-3362-4eaa-9ba1-b23718bd1632",
   "metadata": {},
   "outputs": [
    {
     "ename": "NameError",
     "evalue": "name 're' is not defined",
     "output_type": "error",
     "traceback": [
      "\u001b[1;31m---------------------------------------------------------------------------\u001b[0m",
      "\u001b[1;31mNameError\u001b[0m                                 Traceback (most recent call last)",
      "Cell \u001b[1;32mIn[4], line 8\u001b[0m\n\u001b[0;32m      6\u001b[0m \u001b[38;5;28;01mfor\u001b[39;00m i \u001b[38;5;129;01min\u001b[39;00m a:\n\u001b[0;32m      7\u001b[0m     \u001b[38;5;28;01mif\u001b[39;00m i \u001b[38;5;129;01mnot\u001b[39;00m \u001b[38;5;129;01min\u001b[39;00m remove:\n\u001b[1;32m----> 8\u001b[0m         re\u001b[38;5;241m.\u001b[39mappend(i)\n\u001b[0;32m      9\u001b[0m \u001b[38;5;28mprint\u001b[39m(res)\n",
      "\u001b[1;31mNameError\u001b[0m: name 're' is not defined"
     ]
    }
   ],
   "source": [
    "a = [10, 20, 30, 40, 50, 60, 70]\n",
    "# Elements to remove\n",
    "remove = [20, 40, 60]\n",
    "# Remove elements using a simple for loop\n",
    "res = []\n",
    "for i in a:\n",
    "    if i not in remove:\n",
    "        re.append(i)\n",
    "print(res)"
   ]
  },
  {
   "cell_type": "code",
   "execution_count": null,
   "id": "67117529-32f7-4619-946a-f3f39d682004",
   "metadata": {},
   "outputs": [],
   "source": []
  }
 ],
 "metadata": {
  "kernelspec": {
   "display_name": "Python 3 (ipykernel)",
   "language": "python",
   "name": "python3"
  },
  "language_info": {
   "codemirror_mode": {
    "name": "ipython",
    "version": 3
   },
   "file_extension": ".py",
   "mimetype": "text/x-python",
   "name": "python",
   "nbconvert_exporter": "python",
   "pygments_lexer": "ipython3",
   "version": "3.11.7"
  }
 },
 "nbformat": 4,
 "nbformat_minor": 5
}
