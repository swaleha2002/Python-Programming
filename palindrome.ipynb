{
 "cells": [
  {
   "cell_type": "markdown",
   "id": "4420c1e4-1d37-4c80-8682-7c0ad1230df4",
   "metadata": {},
   "source": [
    "# Python Program to Check if a String is Palindrome or Not"
   ]
  },
  {
   "cell_type": "raw",
   "id": "07802cdf-6004-403c-8fb8-c37a7d003f08",
   "metadata": {},
   "source": [
    "A string is said to be a palindrome if the reverse of the string is the same as the string. For example, “radar” is a palindrome, but “radix” is not a palindrome."
   ]
  },
  {
   "cell_type": "code",
   "execution_count": null,
   "id": "4e415319-9b1b-4dc5-9825-4d3ced16d125",
   "metadata": {},
   "outputs": [],
   "source": [
    "def palindrome(s):\n",
    "    return s == s[::-1]\n",
    "\n",
    "s = \"malaya\""
   ]
  }
 ],
 "metadata": {
  "kernelspec": {
   "display_name": "Python 3 (ipykernel)",
   "language": "python",
   "name": "python3"
  },
  "language_info": {
   "codemirror_mode": {
    "name": "ipython",
    "version": 3
   },
   "file_extension": ".py",
   "mimetype": "text/x-python",
   "name": "python",
   "nbconvert_exporter": "python",
   "pygments_lexer": "ipython3",
   "version": "3.11.7"
  }
 },
 "nbformat": 4,
 "nbformat_minor": 5
}
