{
 "cells": [
  {
   "cell_type": "markdown",
   "id": "10f28e29-12b1-4f57-8aeb-8fa4b152a43f",
   "metadata": {},
   "source": [
    "# Python program to print negative numbers in a list"
   ]
  },
  {
   "cell_type": "code",
   "execution_count": null,
   "id": "e8676e18-a8fe-4543-bb82-b402774bb792",
   "metadata": {},
   "outputs": [],
   "source": [
    "def negNums(numbers):\n",
    "    for"
   ]
  }
 ],
 "metadata": {
  "kernelspec": {
   "display_name": "Python 3 (ipykernel)",
   "language": "python",
   "name": "python3"
  },
  "language_info": {
   "codemirror_mode": {
    "name": "ipython",
    "version": 3
   },
   "file_extension": ".py",
   "mimetype": "text/x-python",
   "name": "python",
   "nbconvert_exporter": "python",
   "pygments_lexer": "ipython3",
   "version": "3.11.7"
  }
 },
 "nbformat": 4,
 "nbformat_minor": 5
}
