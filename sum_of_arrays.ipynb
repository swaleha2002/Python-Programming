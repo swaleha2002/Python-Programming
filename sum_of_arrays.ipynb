{
 "cells": [
  {
   "cell_type": "markdown",
   "id": "9eb56ec7-9e69-4844-9637-427280d31e4f",
   "metadata": {},
   "source": [
    "# Python Program to Find Sum of Array"
   ]
  },
  {
   "cell_type": "code",
   "execution_count": 1,
   "id": "000730dd-fa0c-4e4a-9fc9-ba3347e86fbf",
   "metadata": {},
   "outputs": [],
   "source": [
    "import numpy"
   ]
  },
  {
   "cell_type": "code",
   "execution_count": 5,
   "id": "590423c5-9f87-487e-8a92-c4a06491b910",
   "metadata": {},
   "outputs": [
    {
     "name": "stdout",
     "output_type": "stream",
     "text": [
      "sum of the array is : 34\n"
     ]
    }
   ],
   "source": [
    "# # Iterating through the array and adding each element to the sum variable and finally displaying the sum.\n",
    "def sum_arrays(arr):\n",
    "    sum = 0\n",
    "    for i in arr:\n",
    "        sum = sum + i\n",
    "    return sum\n",
    "\n",
    "#  main function\n",
    "if __name__ == \"__main__\":\n",
    "   arr = [12,3,4,15]\n",
    "   \n",
    "   ans = sum_arrays(arr)\n",
    "   print(\"sum of the array is :\", ans)"
   ]
  },
  {
   "cell_type": "markdown",
   "id": "d81e3dcc-06af-4300-bebe-333b9cddb855",
   "metadata": {},
   "source": [
    "# Python Program to Find Sum of Array Using sum()"
   ]
  },
  {
   "cell_type": "code",
   "execution_count": 6,
   "id": "7f31a5ac-a8ed-4646-a2eb-9c7ccd5e04f8",
   "metadata": {},
   "outputs": [
    {
     "name": "stdout",
     "output_type": "stream",
     "text": [
      "34\n"
     ]
    }
   ],
   "source": [
    "arr = [12,3,4,15]\n",
    "ans = sum(arr)\n",
    "print(ans)"
   ]
  },
  {
   "cell_type": "markdown",
   "id": "e7ce112b-4e9f-4900-9abf-02ab60b9893b",
   "metadata": {},
   "source": [
    "# Python Program to Find Sum of Array Using reduce method"
   ]
  },
  {
   "cell_type": "code",
   "execution_count": 8,
   "id": "f57f0d79-f829-4375-a9b7-bf73378deae5",
   "metadata": {},
   "outputs": [
    {
     "name": "stdout",
     "output_type": "stream",
     "text": [
      "34\n"
     ]
    }
   ],
   "source": [
    "from functools import reduce\n",
    "\n",
    "def sum_arrays(arr):\n",
    "    sum = reduce(lambda a,b: a+b,arr)\n",
    "    return (sum)\n",
    "\n",
    "arr = [12, 3, 4, 15]\n",
    "ans = sum_arrays(arr)\n",
    "print(ans)"
   ]
  },
  {
   "cell_type": "markdown",
   "id": "37209e5a-d077-4a18-83f5-50b6adab26b0",
   "metadata": {},
   "source": [
    "# Python Program to Find Sum of Array Using enumerate function "
   ]
  },
  {
   "cell_type": "code",
   "execution_count": 12,
   "id": "c48a31e7-20bb-4277-b7e2-a4fc327ecbf1",
   "metadata": {},
   "outputs": [
    {
     "name": "stdout",
     "output_type": "stream",
     "text": [
      "34\n"
     ]
    }
   ],
   "source": [
    "list1 = [12, 3, 4, 15];s=0\n",
    "for i,a in enumerate(list1): \n",
    "  s+=a \n",
    "print(s)"
   ]
  },
  {
   "cell_type": "markdown",
   "id": "077e16f8-e385-47f4-af81-04fffb5c8138",
   "metadata": {},
   "source": [
    "# Python Program to Find Sum of Array Using Divide and conquer"
   ]
  },
  {
   "cell_type": "code",
   "execution_count": 15,
   "id": "2adf2f67-2b19-490f-8f5b-d6a86f05cabd",
   "metadata": {},
   "outputs": [
    {
     "name": "stdout",
     "output_type": "stream",
     "text": [
      "6\n",
      "50\n"
     ]
    }
   ],
   "source": [
    "def sum_of_array(arr, low, high):\n",
    "    if low == high:\n",
    "        return arr[low]\n",
    "    mid = (low + high) // 2\n",
    "    left_sum = sum_of_array(arr, low, mid)\n",
    "    right_sum = sum_of_array(arr, mid+1, high)\n",
    "    return left_sum + right_sum\n",
    "#Examples\n",
    "arr = [1, 2, 3]\n",
    "print(sum_of_array(arr, 0, len(arr)-1)) # Output: 6\n",
    " \n",
    "arr = [15, 12, 13, 10]\n",
    "print(sum_of_array(arr, 0, len(arr)-1)) # Output: 50"
   ]
  },
  {
   "cell_type": "markdown",
   "id": "aac87ce9-2fa8-4522-b147-2ea317ab872e",
   "metadata": {},
   "source": [
    "# Python Program to Find Sum of Array Using counter method."
   ]
  },
  {
   "cell_type": "code",
   "execution_count": 18,
   "id": "a3612954-a220-4861-abab-be8083692cf7",
   "metadata": {},
   "outputs": [
    {
     "name": "stdout",
     "output_type": "stream",
     "text": [
      "34\n"
     ]
    }
   ],
   "source": [
    "from collections import Counter\n",
    "arr = [12,3,4,15]\n",
    "c = Counter(arr)\n",
    "sum = 0\n",
    "\n",
    "for key,value in c.items():\n",
    "    sum = sum +key *value\n",
    "print(sum)"
   ]
  },
  {
   "cell_type": "code",
   "execution_count": null,
   "id": "eb63154a-4e37-49dd-84ea-70354be95541",
   "metadata": {},
   "outputs": [],
   "source": []
  }
 ],
 "metadata": {
  "kernelspec": {
   "display_name": "Python 3 (ipykernel)",
   "language": "python",
   "name": "python3"
  },
  "language_info": {
   "codemirror_mode": {
    "name": "ipython",
    "version": 3
   },
   "file_extension": ".py",
   "mimetype": "text/x-python",
   "name": "python",
   "nbconvert_exporter": "python",
   "pygments_lexer": "ipython3",
   "version": "3.11.7"
  }
 },
 "nbformat": 4,
 "nbformat_minor": 5
}
