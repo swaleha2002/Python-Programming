{
 "cells": [
  {
   "cell_type": "markdown",
   "id": "9ae4286b-ede8-4961-9d3d-a7c71cef2843",
   "metadata": {},
   "source": [
    "# Using max()"
   ]
  },
  {
   "cell_type": "code",
   "execution_count": 5,
   "id": "917b65ef-993f-4b2c-8c23-7f842550e235",
   "metadata": {},
   "outputs": [
    {
     "name": "stdout",
     "output_type": "stream",
     "text": [
      "12\n"
     ]
    }
   ],
   "source": [
    "a = [8, 3, 5, 1, 9, 12]\n",
    "largest = max(a)\n",
    "print(largest)"
   ]
  },
  {
   "cell_type": "markdown",
   "id": "237683cb-5812-4365-98a7-e81dbcb4467b",
   "metadata": {},
   "source": [
    "# Using a For Loop"
   ]
  },
  {
   "cell_type": "code",
   "execution_count": null,
   "id": "dca424f8-73da-432b-af6e-0293be818183",
   "metadata": {},
   "outputs": [],
   "source": [
    "a = [8, 3, 5, 1, 9, 12]\n",
    "largest = a[0]\n",
    "for i in a:\n",
    "    if i >largest\n",
    "    larg"
   ]
  }
 ],
 "metadata": {
  "kernelspec": {
   "display_name": "Python 3 (ipykernel)",
   "language": "python",
   "name": "python3"
  },
  "language_info": {
   "codemirror_mode": {
    "name": "ipython",
    "version": 3
   },
   "file_extension": ".py",
   "mimetype": "text/x-python",
   "name": "python",
   "nbconvert_exporter": "python",
   "pygments_lexer": "ipython3",
   "version": "3.11.7"
  }
 },
 "nbformat": 4,
 "nbformat_minor": 5
}
