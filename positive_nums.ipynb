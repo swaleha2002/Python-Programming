{
 "cells": [
  {
   "cell_type": "markdown",
   "id": "ff2791bc-940b-4204-a12e-9c6ee2c99dd7",
   "metadata": {},
   "source": [
    "# Python program to print positive numbers in a list"
   ]
  },
  {
   "cell_type": "code",
   "execution_count": 8,
   "id": "a55e6aa9-0131-4a1d-9176-059975e21736",
   "metadata": {},
   "outputs": [
    {
     "ename": "SyntaxError",
     "evalue": "invalid syntax (1691001984.py, line 2)",
     "output_type": "error",
     "traceback": [
      "\u001b[1;36m  Cell \u001b[1;32mIn[8], line 2\u001b[1;36m\u001b[0m\n\u001b[1;33m    for i in range N:\u001b[0m\n\u001b[1;37m                   ^\u001b[0m\n\u001b[1;31mSyntaxError\u001b[0m\u001b[1;31m:\u001b[0m invalid syntax\n"
     ]
    }
   ],
   "source": [
    "def positiveNums(N):\n",
    "    for i in range N:\n",
    "       if i > 0:\n",
    "          print (i)\n",
    "N = [-10, 15, 0, 20, -5, 30, -2]\n",
    "positiveNums(N)"
   ]
  },
  {
   "cell_type": "code",
   "execution_count": null,
   "id": "f343692a-ddc0-4304-8bac-c175faf9fa7a",
   "metadata": {},
   "outputs": [],
   "source": [
    "def positiveNums(numbers):\n",
    "    for i in numbers:\n",
    "        if i > 0:\n",
    "            print(num)\n",
    "\n",
    "N = [-10, 15, 0, 20, -5, 30, -2]\n",
    "positiveNums(N)\n"
   ]
  }
 ],
 "metadata": {
  "kernelspec": {
   "display_name": "Python 3 (ipykernel)",
   "language": "python",
   "name": "python3"
  },
  "language_info": {
   "codemirror_mode": {
    "name": "ipython",
    "version": 3
   },
   "file_extension": ".py",
   "mimetype": "text/x-python",
   "name": "python",
   "nbconvert_exporter": "python",
   "pygments_lexer": "ipython3",
   "version": "3.11.7"
  }
 },
 "nbformat": 4,
 "nbformat_minor": 5
}
