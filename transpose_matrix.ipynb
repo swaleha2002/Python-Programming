{
 "cells": [
  {
   "cell_type": "markdown",
   "id": "d21d11f6-b132-4249-bb28-36ed1482394d",
   "metadata": {},
   "source": [
    "# Transpose a matrix in Single line in Python"
   ]
  },
  {
   "cell_type": "markdown",
   "id": "2661e539-b8be-407e-ad52-86b5291a2664",
   "metadata": {},
   "source": [
    "### Python Programs to Transpose a matrix using NumPy"
   ]
  },
  {
   "cell_type": "code",
   "execution_count": 3,
   "id": "ea95a594-0bc8-4ee6-8290-fcc8efa3eb57",
   "metadata": {},
   "outputs": [
    {
     "name": "stdout",
     "output_type": "stream",
     "text": [
      "[[1, 2, 3], [4, 5, 6]]\n",
      "\n",
      "\n",
      "[[1 4]\n",
      " [2 5]\n",
      " [3 6]]\n"
     ]
    }
   ],
   "source": [
    "import numpy\n",
    "matrix = [[1, 2, 3], [4, 5, 6]]\n",
    "print(matrix)\n",
    "print(\"\\n\")\n",
    "print(numpy.transpose(matrix))"
   ]
  },
  {
   "cell_type": "markdown",
   "id": "83419796-e008-46a6-8c76-5d72c082c558",
   "metadata": {},
   "source": [
    "### Using “.T” after the variable"
   ]
  },
  {
   "cell_type": "code",
   "execution_count": 4,
   "id": "c5b4d905-c547-4580-974a-78496695312e",
   "metadata": {},
   "outputs": [
    {
     "name": "stdout",
     "output_type": "stream",
     "text": [
      "[[1 2 3]\n",
      " [4 5 6]]\n",
      "\n",
      "\n",
      "[[1 4]\n",
      " [2 5]\n",
      " [3 6]]\n"
     ]
    }
   ],
   "source": [
    "import numpy as np\n",
    "matrix = np.array([[1, 2, 3], [4, 5, 6]])\n",
    "print(matrix)\n",
    "print(\"\\n\")\n",
    "print(matrix.T)"
   ]
  },
  {
   "cell_type": "code",
   "execution_count": null,
   "id": "af12bdbf-8ae2-4e24-9dde-9ee24d7e222e",
   "metadata": {},
   "outputs": [],
   "source": []
  }
 ],
 "metadata": {
  "kernelspec": {
   "display_name": "Python 3 (ipykernel)",
   "language": "python",
   "name": "python3"
  },
  "language_info": {
   "codemirror_mode": {
    "name": "ipython",
    "version": 3
   },
   "file_extension": ".py",
   "mimetype": "text/x-python",
   "name": "python",
   "nbconvert_exporter": "python",
   "pygments_lexer": "ipython3",
   "version": "3.11.7"
  }
 },
 "nbformat": 4,
 "nbformat_minor": 5
}
