{
 "cells": [
  {
   "cell_type": "markdown",
   "id": "823a8916-84ce-4fe5-9501-a6dac0fa0946",
   "metadata": {},
   "source": [
    "# Python Program to check if given array is Monotonic"
   ]
  },
  {
   "cell_type": "raw",
   "id": "ee2e7a01-f09b-4d0c-afbc-37e1f7c4562c",
   "metadata": {},
   "source": [
    "An array is monotonic if it is either monotone increasing or monotone decreasing. An array A is monotone increasing if for all i <= j, A[i] <= A[j]. \n",
    "An array A is monotone decreasing if for all i <= j, A[i] >= A[j]. \n",
    "\n",
    "Return Type: Boolean value, “True” if the given array A is monotonic else return “False” (without quotes). "
   ]
  },
  {
   "cell_type": "markdown",
   "id": "f40a803a-f7a6-4da6-a4d8-8bfddcb8456e",
   "metadata": {},
   "source": [
    "Input : 6 5 4 4\n",
    "Output : true\n",
    "\n",
    "Input : 5 15 20 10\n",
    "Output : false\n"
   ]
  },
  {
   "cell_type": "raw",
   "id": "9f6007ba-8677-49ee-82ca-7054456c0b55",
   "metadata": {},
   "source": [
    "Approach : Using extend() and sort()\n",
    "\n",
    "First copy the given array into two different arrays using extend()\n",
    "Sort the first array in ascending order using sort()\n",
    "Sort the second array in descending order using sort(reverse=True)\n",
    "If the given array is equal to any of the two arrays then the array is monotonic"
   ]
  },
  {
   "cell_type": "code",
   "execution_count": 1,
   "id": "ee7b2056-8845-43ae-8316-40b4798dc507",
   "metadata": {},
   "outputs": [
    {
     "name": "stdout",
     "output_type": "stream",
     "text": [
      "True\n"
     ]
    }
   ],
   "source": [
    "def isMonotonic(A):\n",
    "    x,y = [],[]\n",
    "    x.extend(A)\n",
    "    y.extend(A)\n",
    "    x.sort()\n",
    "    y.sort(reverse=True)\n",
    "    if(x == A or y == A):\n",
    "        return True\n",
    "    return False\n",
    "# Driver program\n",
    "A = [6, 5, 4, 4]\n",
    "\n",
    "# Print required result\n",
    "print(isMonotonic(A))"
   ]
  },
  {
   "cell_type": "code",
   "execution_count": null,
   "id": "30106dfe-68ae-41c1-b832-979e01a4b3de",
   "metadata": {},
   "outputs": [],
   "source": []
  }
 ],
 "metadata": {
  "kernelspec": {
   "display_name": "Python 3 (ipykernel)",
   "language": "python",
   "name": "python3"
  },
  "language_info": {
   "codemirror_mode": {
    "name": "ipython",
    "version": 3
   },
   "file_extension": ".py",
   "mimetype": "text/x-python",
   "name": "python",
   "nbconvert_exporter": "python",
   "pygments_lexer": "ipython3",
   "version": "3.11.7"
  }
 },
 "nbformat": 4,
 "nbformat_minor": 5
}
