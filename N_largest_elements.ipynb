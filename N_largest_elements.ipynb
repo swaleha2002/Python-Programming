{
 "cells": [
  {
   "cell_type": "markdown",
   "id": "6a57a501-c81a-4799-8366-eeaa093c77ee",
   "metadata": {},
   "source": [
    "# Python program to find N largest elements from a list"
   ]
  },
  {
   "cell_type": "markdown",
   "id": "e757e2c0-1377-45be-826c-a72162b8a61a",
   "metadata": {},
   "source": [
    "##### Given a list of integers, the task is to find N largest elements assuming size of list is greater than or equal o N"
   ]
  },
  {
   "cell_type": "code",
   "execution_count": null,
   "id": "dcde6ce8-7c54-41c7-8ab2-1ebc5164b94c",
   "metadata": {},
   "outputs": [],
   "source": [
    "Examples :\n",
    "Input : [4, 5, 1, 2, 9] \n",
    "        N = 2\n",
    "Output :  [9, 5]\n",
    "\n",
    "Input : [81, 52, 45, 10, 3, 2, 96] \n",
    "        N = 3\n",
    "Output : [81, 96, 52]"
   ]
  },
  {
   "cell_type": "code",
   "execution_count": 1,
   "id": "fb4c1cb1-21c5-4fff-ab75-0550f58a95b7",
   "metadata": {},
   "outputs": [
    {
     "name": "stdout",
     "output_type": "stream",
     "text": [
      "[85, 41]\n"
     ]
    }
   ],
   "source": [
    "def Nmaxelements(list1,N):\n",
    "    final_list = []\n",
    "    for i in range (0,N):\n",
    "        max1 = 0\n",
    "        for j in range(len(list1)):\n",
    "            if list1[j] > max1:\n",
    "                max1 = list1[j]\n",
    "        list1.remove(max1)\n",
    "        final_list.append(max1)\n",
    "    print(final_list)\n",
    "\n",
    "list1 =  [2, 6, 41, 85, 0, 3, 7, 6, 10]\n",
    "N = 2\n",
    "Nmaxelements(list1,N)"
   ]
  },
  {
   "cell_type": "markdown",
   "id": "e3d5a137-c22a-4db0-99cc-54c029dedc40",
   "metadata": {},
   "source": [
    "# Using numpy.argsort() function"
   ]
  },
  {
   "cell_type": "code",
   "execution_count": 2,
   "id": "f9e525a0-b421-4527-9fc5-c408a824ae96",
   "metadata": {},
   "outputs": [
    {
     "name": "stdout",
     "output_type": "stream",
     "text": [
      "[10 41 85]\n"
     ]
    }
   ],
   "source": [
    "import numpy as np\n",
    "def Nmaxelements(list1, N):\n",
    "    list1 = np.array(list1)\n",
    "    return  list1[np.argsort(list1)[-N:]]\n",
    "list1 = [2, 6, 41, 85, 0, 3, 7, 6, 10]\n",
    "N = 3\n",
    "print(Nmaxelements(list1, N))"
   ]
  },
  {
   "cell_type": "code",
   "execution_count": null,
   "id": "c0fcecf1-2c49-41fc-ba06-ac3c31b340ab",
   "metadata": {},
   "outputs": [],
   "source": []
  }
 ],
 "metadata": {
  "kernelspec": {
   "display_name": "Python 3 (ipykernel)",
   "language": "python",
   "name": "python3"
  },
  "language_info": {
   "codemirror_mode": {
    "name": "ipython",
    "version": 3
   },
   "file_extension": ".py",
   "mimetype": "text/x-python",
   "name": "python",
   "nbconvert_exporter": "python",
   "pygments_lexer": "ipython3",
   "version": "3.11.7"
  }
 },
 "nbformat": 4,
 "nbformat_minor": 5
}
