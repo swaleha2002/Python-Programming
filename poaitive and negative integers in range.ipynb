{
 "cells": [
  {
   "cell_type": "markdown",
   "id": "917907cb-328a-451e-846d-76f7ef3be8ea",
   "metadata": {},
   "source": [
    "# Python program to print all positive numbers in a range"
   ]
  },
  {
   "cell_type": "code",
   "execution_count": 1,
   "id": "dc907fe9-0ee4-4a72-b629-49ce89c53a87",
   "metadata": {},
   "outputs": [
    {
     "name": "stdout",
     "output_type": "stream",
     "text": [
      "1\n",
      "2\n",
      "3\n"
     ]
    }
   ],
   "source": [
    "start = -5\n",
    "end = 3\n",
    "\n",
    "# Loop through range and print positive numbers\n",
    "for val in range(start, end + 1):\n",
    "  \n",
    "    # checks whether current number is positive\n",
    "    if val > 0:\n",
    "        print(val)"
   ]
  },
  {
   "cell_type": "markdown",
   "id": "3728c34d-8199-44b1-b80b-ad0c62a2b1f5",
   "metadata": {},
   "source": [
    "\n",
    "# Python program to print all positive numbers in a range"
   ]
  },
  {
   "cell_type": "code",
   "execution_count": 3,
   "id": "0db2309b-95bd-44b1-96d1-0a000ccfd8a7",
   "metadata": {},
   "outputs": [
    {
     "name": "stdout",
     "output_type": "stream",
     "text": [
      "-5\n",
      "-4\n",
      "-3\n",
      "-2\n",
      "-1\n"
     ]
    }
   ],
   "source": [
    "start = -5\n",
    "end = 3\n",
    "\n",
    "# Loop through range and print positive numbers\n",
    "for val in range(start, end + 1):\n",
    "  \n",
    "    # checks whether current number is positive\n",
    "    if val < 0:\n",
    "        print(val)"
   ]
  },
  {
   "cell_type": "code",
   "execution_count": null,
   "id": "e1b0be6b-31ed-4b59-918e-9188d7020e49",
   "metadata": {},
   "outputs": [],
   "source": []
  }
 ],
 "metadata": {
  "kernelspec": {
   "display_name": "Python 3 (ipykernel)",
   "language": "python",
   "name": "python3"
  },
  "language_info": {
   "codemirror_mode": {
    "name": "ipython",
    "version": 3
   },
   "file_extension": ".py",
   "mimetype": "text/x-python",
   "name": "python",
   "nbconvert_exporter": "python",
   "pygments_lexer": "ipython3",
   "version": "3.11.7"
  }
 },
 "nbformat": 4,
 "nbformat_minor": 5
}
