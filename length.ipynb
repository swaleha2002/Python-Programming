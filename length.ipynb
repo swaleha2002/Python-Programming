{
 "cells": [
  {
   "cell_type": "markdown",
   "id": "aa6eafbf-6055-43e5-b65b-2a831d20b8c5",
   "metadata": {},
   "source": [
    "# How To Find the Length of a List in Python"
   ]
  },
  {
   "cell_type": "markdown",
   "id": "20321197-f853-44a1-af6f-b000f61d97eb",
   "metadata": {},
   "source": [
    "### 1. Using len()"
   ]
  },
  {
   "cell_type": "code",
   "execution_count": 1,
   "id": "0a391e78-4647-4158-9c70-213b7c96d4e8",
   "metadata": {},
   "outputs": [
    {
     "name": "stdout",
     "output_type": "stream",
     "text": [
      "5\n"
     ]
    }
   ],
   "source": [
    "a = [1, 2, 3, 4, 5]\n",
    "length = len(a)\n",
    "print(length)"
   ]
  },
  {
   "cell_type": "markdown",
   "id": "426ceec6-a01d-47c8-a221-feca44336ffa",
   "metadata": {},
   "source": [
    "### 2.Using loop (Naive method)"
   ]
  },
  {
   "cell_type": "code",
   "execution_count": 4,
   "id": "af657a46-f0bb-4b7c-81c1-e39da6e63ca6",
   "metadata": {},
   "outputs": [
    {
     "name": "stdout",
     "output_type": "stream",
     "text": [
      "5\n"
     ]
    }
   ],
   "source": [
    "a = [1, 2, 3, 4, 5]\n",
    "count = 0\n",
    "for val in a:\n",
    "    count += 1\n",
    "print(len(a))"
   ]
  },
  {
   "cell_type": "code",
   "execution_count": null,
   "id": "c7d8dacd-05f9-4a26-baf7-f741ad9b0722",
   "metadata": {},
   "outputs": [],
   "source": []
  }
 ],
 "metadata": {
  "kernelspec": {
   "display_name": "Python 3 (ipykernel)",
   "language": "python",
   "name": "python3"
  },
  "language_info": {
   "codemirror_mode": {
    "name": "ipython",
    "version": 3
   },
   "file_extension": ".py",
   "mimetype": "text/x-python",
   "name": "python",
   "nbconvert_exporter": "python",
   "pygments_lexer": "ipython3",
   "version": "3.11.7"
  }
 },
 "nbformat": 4,
 "nbformat_minor": 5
}
