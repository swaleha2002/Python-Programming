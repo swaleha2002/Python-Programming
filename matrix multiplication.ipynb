{
 "cells": [
  {
   "cell_type": "markdown",
   "id": "988a3c3d-132a-4e68-8c44-9e71e0fc767f",
   "metadata": {},
   "source": [
    "# Python Program to Multiply Two Matrices"
   ]
  },
  {
   "cell_type": "code",
   "execution_count": null,
   "id": "e630bc68-2899-42e8-87d8-a4b50681c131",
   "metadata": {},
   "outputs": [],
   "source": [
    "matrix_a = [[1,2],[3,4]]\n",
    "matrix_b = [[5,6],[7,8]]\n",
    "result   = [[0,0],[0,0]]\n",
    "\n",
    "for i in range(2):\n",
    "    for j in range(2):\n",
    "        result[i][j] = (matrix_a[i][0] * matrix_b[0][j] +\n",
    "                       matrix_a[i][1] * matrix_b[1][j])\n",
    "f\n"
   ]
  }
 ],
 "metadata": {
  "kernelspec": {
   "display_name": "Python 3 (ipykernel)",
   "language": "python",
   "name": "python3"
  },
  "language_info": {
   "codemirror_mode": {
    "name": "ipython",
    "version": 3
   },
   "file_extension": ".py",
   "mimetype": "text/x-python",
   "name": "python",
   "nbconvert_exporter": "python",
   "pygments_lexer": "ipython3",
   "version": "3.11.7"
  }
 },
 "nbformat": 4,
 "nbformat_minor": 5
}
