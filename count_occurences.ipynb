{
 "cells": [
  {
   "cell_type": "markdown",
   "id": "0eb79a6b-758e-4fa0-9836-1c8c6d8298d3",
   "metadata": {},
   "source": [
    "# Count occurrences of an element in a list in Python"
   ]
  },
  {
   "cell_type": "markdown",
   "id": "0a24606e-83d7-4920-ad72-8910acd12974",
   "metadata": {},
   "source": [
    "### Using count()"
   ]
  },
  {
   "cell_type": "code",
   "execution_count": 15,
   "id": "34c00cb7-666f-48a8-899f-aaaa4c5456cb",
   "metadata": {},
   "outputs": [
    {
     "name": "stdout",
     "output_type": "stream",
     "text": [
      "4\n",
      "3\n"
     ]
    }
   ],
   "source": [
    "a = [1, 3, 2, 6, 3, 2, 8, 2, 9, 2, 7, 3]\n",
    "# Count occurrences of 2\n",
    "print(a.count(2))\n",
    "# Count occurrences of 3\n",
    "print(a.count(3))"
   ]
  },
  {
   "cell_type": "markdown",
   "id": "0482c057-8161-45fc-b8eb-6a186d53fa55",
   "metadata": {},
   "source": [
    "### Using a Loop"
   ]
  },
  {
   "cell_type": "code",
   "execution_count": 16,
   "id": "66f0916a-9f3b-44f9-9c2d-8c5455139afd",
   "metadata": {},
   "outputs": [
    {
     "name": "stdout",
     "output_type": "stream",
     "text": [
      "3\n"
     ]
    }
   ],
   "source": [
    "a = [1, 3, 2, 6, 3, 2, 8, 2, 9, 2, 7, 3]\n",
    "\n",
    "# Initial count is zero\n",
    "count = 0\n",
    "\n",
    "# Iterate over the list\n",
    "for val in a:\n",
    "  \n",
    "      # If num is equal to 3 \n",
    "    if val == 3:\n",
    "      \n",
    "        # Increase the counter\n",
    "        count += 1\n",
    "\n",
    "print(count)"
   ]
  },
  {
   "cell_type": "code",
   "execution_count": null,
   "id": "b268b30f-210b-4528-a229-c062d065a065",
   "metadata": {},
   "outputs": [],
   "source": []
  }
 ],
 "metadata": {
  "kernelspec": {
   "display_name": "Python 3 (ipykernel)",
   "language": "python",
   "name": "python3"
  },
  "language_info": {
   "codemirror_mode": {
    "name": "ipython",
    "version": 3
   },
   "file_extension": ".py",
   "mimetype": "text/x-python",
   "name": "python",
   "nbconvert_exporter": "python",
   "pygments_lexer": "ipython3",
   "version": "3.11.7"
  }
 },
 "nbformat": 4,
 "nbformat_minor": 5
}
