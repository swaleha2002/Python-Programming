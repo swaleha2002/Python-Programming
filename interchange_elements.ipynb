{
 "cells": [
  {
   "cell_type": "markdown",
   "id": "ee049bf4-543b-4259-844d-77b4bb7e3273",
   "metadata": {},
   "source": [
    "# Python program to interchange first and last elements in a list"
   ]
  },
  {
   "cell_type": "markdown",
   "id": "fbc5cdc2-fd8c-4752-8d20-b0ba404a2c24",
   "metadata": {},
   "source": [
    "#### Examples: The last element of the list can be referred to as a list[-1]. Therefore, we can simply swap list[0] with list[-1]."
   ]
  },
  {
   "cell_type": "code",
   "execution_count": 1,
   "id": "690b1a35-b591-4139-abc4-60aa3f77d1af",
   "metadata": {},
   "outputs": [
    {
     "name": "stdout",
     "output_type": "stream",
     "text": [
      "List after swapping first and last elements: [5, 2, 3, 4, 1]\n"
     ]
    }
   ],
   "source": [
    "my_list = [1,2,3,4,5]\n",
    "\n",
    "# # Interchange first and last elements\n",
    "my_list[0],my_list[-1] = my_list[-1],my_list[0]\n",
    "\n",
    "print(\"List after swapping first and last elements:\",my_list)"
   ]
  },
  {
   "cell_type": "markdown",
   "id": "8e562cfb-7b7d-447a-8a90-c8a0195f4428",
   "metadata": {},
   "source": [
    "#### Interchange first and last elements using Temporary Value"
   ]
  },
  {
   "cell_type": "code",
   "execution_count": 2,
   "id": "5d9bdaf4-7435-4de0-9be6-1a65646183cc",
   "metadata": {},
   "outputs": [
    {
     "name": "stdout",
     "output_type": "stream",
     "text": [
      "[24, 35, 9, 56, 12]\n"
     ]
    }
   ],
   "source": [
    "def swapList(newList):\n",
    "    size = len(newList)\n",
    "\n",
    "    # swapping\n",
    "    temp = newList[0]\n",
    "    newList[0] = newList[size-1]\n",
    "    newList[size-1] = temp\n",
    "\n",
    "    return newList\n",
    "\n",
    "newList = [12, 35, 9, 56, 24]\n",
    "print(swapList(newList))"
   ]
  },
  {
   "cell_type": "code",
   "execution_count": null,
   "id": "ce562afa-5c3f-4e33-bac3-8be5de692e26",
   "metadata": {},
   "outputs": [],
   "source": []
  }
 ],
 "metadata": {
  "kernelspec": {
   "display_name": "Python 3 (ipykernel)",
   "language": "python",
   "name": "python3"
  },
  "language_info": {
   "codemirror_mode": {
    "name": "ipython",
    "version": 3
   },
   "file_extension": ".py",
   "mimetype": "text/x-python",
   "name": "python",
   "nbconvert_exporter": "python",
   "pygments_lexer": "ipython3",
   "version": "3.11.7"
  }
 },
 "nbformat": 4,
 "nbformat_minor": 5
}
