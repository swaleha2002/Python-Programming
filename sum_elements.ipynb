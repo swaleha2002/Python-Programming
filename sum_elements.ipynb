{
 "cells": [
  {
   "cell_type": "markdown",
   "id": "97d1db66-dada-4f19-bfd2-931725b15f29",
   "metadata": {},
   "source": [
    "# Using Sum() functions"
   ]
  },
  {
   "cell_type": "code",
   "execution_count": 1,
   "id": "62976b23-a7c2-4fff-991e-245a4d3d7a50",
   "metadata": {},
   "outputs": [
    {
     "name": "stdout",
     "output_type": "stream",
     "text": [
      "100\n"
     ]
    }
   ],
   "source": [
    "a = [10, 20, 30, 40]\n",
    "res = sum(a)\n",
    "print(res)"
   ]
  },
  {
   "cell_type": "markdown",
   "id": "b42e0992-6113-405e-90e0-457a21880a77",
   "metadata": {},
   "source": [
    "# using loop"
   ]
  },
  {
   "cell_type": "code",
   "execution_count": null,
   "id": "b27626b1-d820-4729-984a-1d0843d7a53c",
   "metadata": {},
   "outputs": [],
   "source": [
    "a = [10, 20, 30, 40]\n",
    "res = 0\n",
    "fp"
   ]
  }
 ],
 "metadata": {
  "kernelspec": {
   "display_name": "Python 3 (ipykernel)",
   "language": "python",
   "name": "python3"
  },
  "language_info": {
   "codemirror_mode": {
    "name": "ipython",
    "version": 3
   },
   "file_extension": ".py",
   "mimetype": "text/x-python",
   "name": "python",
   "nbconvert_exporter": "python",
   "pygments_lexer": "ipython3",
   "version": "3.11.7"
  }
 },
 "nbformat": 4,
 "nbformat_minor": 5
}
