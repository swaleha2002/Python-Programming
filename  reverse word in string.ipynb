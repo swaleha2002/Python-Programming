{
 "cells": [
  {
   "cell_type": "markdown",
   "id": "0604684e-1bc9-4dad-8b41-225778ce9691",
   "metadata": {},
   "source": [
    "# Reverse Words in a Given String in Python"
   ]
  },
  {
   "cell_type": "code",
   "execution_count": null,
   "id": "a3f929d4-1bd6-45e9-8609-4a3e142482a6",
   "metadata": {},
   "outputs": [],
   "source": [
    "def reverse_words(input_string):\n",
    "    # Split the string into words\n",
    "    words = input_string.split()\n",
    "    # Reverse the list of words\n",
    "    reversed_words = words[::-1]\n",
    "    # Join the words back into a string\n",
    "    result = ' '.join(reversed_words)\n",
    "    return result\n",
    "\n",
    "# Test the function\n",
    "if __name__ == \"__main__\":\n",
    "    input_string = input(\"Enter a string: \")\n",
    "    reversed_string = reverse_words(input_string)\n",
    "    print(f\"Reversed words: {reversed_string}\")\n"
   ]
  }
 ],
 "metadata": {
  "kernelspec": {
   "display_name": "Python 3 (ipykernel)",
   "language": "python",
   "name": "python3"
  },
  "language_info": {
   "codemirror_mode": {
    "name": "ipython",
    "version": 3
   },
   "file_extension": ".py",
   "mimetype": "text/x-python",
   "name": "python",
   "nbconvert_exporter": "python",
   "pygments_lexer": "ipython3",
   "version": "3.11.7"
  }
 },
 "nbformat": 4,
 "nbformat_minor": 5
}
