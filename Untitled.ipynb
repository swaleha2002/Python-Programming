{
 "cells": [
  {
   "cell_type": "markdown",
   "id": "50d23207-c41e-4e66-aed1-2438882037e7",
   "metadata": {},
   "source": [
    "# Check if String Contains Substring in Python"
   ]
  },
  {
   "cell_type": "markdown",
   "id": "b18a196a-922a-49fa-a427-bb16e706f96e",
   "metadata": {},
   "source": [
    "Input: Substring = \"geeks\" \n",
    "            String=\"geeks for geeks\"\n",
    "Output: yes\n",
    "\n",
    "Input: Substring = \"geek\"\n",
    "           String=\"geeks for geeks\"\n",
    "Output: yes\n",
    "\n",
    "Explanation: In this, we are checking if the substring is present in a given string or not."
   ]
  },
  {
   "cell_type": "code",
   "execution_count": 5,
   "id": "bee7a719-7c32-4f6b-8276-eec4a52913d0",
   "metadata": {},
   "outputs": [
    {
     "name": "stdout",
     "output_type": "stream",
     "text": [
      "Yes! it is present in the string\n"
     ]
    }
   ],
   "source": [
    "# Take input from users\n",
    "MyString1 = \"A geek in need is a geek indeed\"\n",
    "\n",
    "if \"need\" in MyString1:\n",
    "    print(\"Yes! it is present in the string\")\n",
    "else:\n",
    "    print(\"No! it is not present\")\n"
   ]
  },
  {
   "cell_type": "code",
   "execution_count": null,
   "id": "49edb5ce-f7ea-4af7-9412-65cf21758867",
   "metadata": {},
   "outputs": [],
   "source": []
  }
 ],
 "metadata": {
  "kernelspec": {
   "display_name": "Python 3 (ipykernel)",
   "language": "python",
   "name": "python3"
  },
  "language_info": {
   "codemirror_mode": {
    "name": "ipython",
    "version": 3
   },
   "file_extension": ".py",
   "mimetype": "text/x-python",
   "name": "python",
   "nbconvert_exporter": "python",
   "pygments_lexer": "ipython3",
   "version": "3.11.7"
  }
 },
 "nbformat": 4,
 "nbformat_minor": 5
}
