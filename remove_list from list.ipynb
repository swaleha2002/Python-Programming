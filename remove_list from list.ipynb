{
 "cells": [
  {
   "cell_type": "markdown",
   "id": "490fd6e1-dd66-4d2e-9cac-b8b01114b7c6",
   "metadata": {},
   "source": [
    "# Remove empty Lists from List – Python"
   ]
  },
  {
   "cell_type": "markdown",
   "id": "db6797bb-1358-410d-9066-985e9a937872",
   "metadata": {},
   "source": [
    "#### Using for loop"
   ]
  },
  {
   "cell_type": "code",
   "execution_count": 7,
   "id": "57f16554-3fd9-4b3c-8dec-4cf12ba32162",
   "metadata": {},
   "outputs": [
    {
     "name": "stdout",
     "output_type": "stream",
     "text": [
      "[[1, 2], [3, 4], [5]]\n"
     ]
    }
   ],
   "source": [
    "a = [[1, 2], [], [3, 4], [], [5]]\n",
    "res = []\n",
    "for i in a:\n",
    "    if i:\n",
    "        res.append(i)\n",
    "print(res)"
   ]
  },
  {
   "cell_type": "code",
   "execution_count": null,
   "id": "a75e5fd3-b6da-4135-9e77-e7b126ec96ee",
   "metadata": {},
   "outputs": [],
   "source": [
    "a = [[1, 2], [], [3, 4], [], [5]]\n",
    "res = []\n",
    "print(res.append(i))"
   ]
  }
 ],
 "metadata": {
  "kernelspec": {
   "display_name": "Python 3 (ipykernel)",
   "language": "python",
   "name": "python3"
  },
  "language_info": {
   "codemirror_mode": {
    "name": "ipython",
    "version": 3
   },
   "file_extension": ".py",
   "mimetype": "text/x-python",
   "name": "python",
   "nbconvert_exporter": "python",
   "pygments_lexer": "ipython3",
   "version": "3.11.7"
  }
 },
 "nbformat": 4,
 "nbformat_minor": 5
}
