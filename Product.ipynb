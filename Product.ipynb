{
 "cells": [
  {
   "cell_type": "markdown",
   "id": "7639bfb6-7ff6-4657-9d9e-e37926a89f8d",
   "metadata": {},
   "source": [
    "# Python | Matrix Product"
   ]
  },
  {
   "cell_type": "markdown",
   "id": "2ac936c0-1e6a-4e1e-9d53-f1e8563468a8",
   "metadata": {},
   "source": [
    "### Method #1: Using list comprehension + loop "
   ]
  },
  {
   "cell_type": "code",
   "execution_count": 6,
   "id": "b2cc2fa9-a4b3-4aad-8903-27b35d30ea81",
   "metadata": {},
   "outputs": [
    {
     "name": "stdout",
     "output_type": "stream",
     "text": [
      "The original list :[[1, 4, 5], [7, 3], [4], [46, 7, 3]]\n",
      "The total element product in lists is : 1622880\n"
     ]
    }
   ],
   "source": [
    "def prod(val):\n",
    "    res = 1\n",
    "    for i in val:\n",
    "        res = res*i\n",
    "    return res\n",
    "\n",
    "test_list = [[1,4,5],[7,3],[4],[46,7,3]]\n",
    "\n",
    "print(\"The original list :\" + str(test_list))\n",
    "\n",
    "# using list comprehension + loop Matrix Product\n",
    "\n",
    "res = prod([i for sub in test_list for i in sub])\n",
    "\n",
    "# print result\n",
    "print(\"The total element product in lists is : \" + str(res))"
   ]
  },
  {
   "cell_type": "markdown",
   "id": "17dddd56-e7b1-4537-a7bc-3efb2f174784",
   "metadata": {},
   "source": [
    "# Method #2 : Using extend() method"
   ]
  },
  {
   "cell_type": "code",
   "execution_count": 7,
   "id": "ec2ad6b7-bdcd-42f4-8890-6379c203490b",
   "metadata": {},
   "outputs": [
    {
     "name": "stdout",
     "output_type": "stream",
     "text": [
      "The original list : [[1, 4, 5], [7, 3], [4], [46, 7, 3]]\n",
      "The total element product in lists is : 1622880\n"
     ]
    }
   ],
   "source": [
    "test_list = [[1, 4, 5], [7, 3], [4], [46, 7, 3]]\n",
    " \n",
    "# printing original list\n",
    "print(\"The original list : \" + str(test_list))\n",
    " \n",
    "x = []\n",
    "for i in test_list:\n",
    "    x.extend(i)\n",
    "res = 1\n",
    "for j in x:\n",
    "    res *= j\n",
    " \n",
    " \n",
    "# print result\n",
    "print(\"The total element product in lists is : \" + str(res))"
   ]
  },
  {
   "cell_type": "code",
   "execution_count": null,
   "id": "e22c8bed-55f2-41f8-a5eb-9b9d556c3818",
   "metadata": {},
   "outputs": [],
   "source": []
  }
 ],
 "metadata": {
  "kernelspec": {
   "display_name": "Python 3 (ipykernel)",
   "language": "python",
   "name": "python3"
  },
  "language_info": {
   "codemirror_mode": {
    "name": "ipython",
    "version": 3
   },
   "file_extension": ".py",
   "mimetype": "text/x-python",
   "name": "python",
   "nbconvert_exporter": "python",
   "pygments_lexer": "ipython3",
   "version": "3.11.7"
  }
 },
 "nbformat": 4,
 "nbformat_minor": 5
}
