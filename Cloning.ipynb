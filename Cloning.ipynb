{
 "cells": [
  {
   "cell_type": "markdown",
   "id": "f9ed9057-9153-4513-b05c-26c31d4e43d0",
   "metadata": {},
   "source": [
    "# Python | Cloning or Copying a list"
   ]
  },
  {
   "cell_type": "markdown",
   "id": "dc9057a3-d944-400f-b396-cd4687fe2f03",
   "metadata": {},
   "source": [
    "### Cloning or Copying a list"
   ]
  },
  {
   "cell_type": "raw",
   "id": "41191935-608f-4afc-ba53-c83f1016bf12",
   "metadata": {},
   "source": [
    "Below are the ways by which we can clone or copy a list in Python:\n",
    "\n",
    "Using the slicing technique \n",
    "Using the extend() method \n",
    "List copy using =(assignment operator)\n",
    "Using the method of Shallow Copy \n",
    "Using list comprehension \n",
    "Using the append() method \n",
    "Using the copy() method \n",
    "Using the method of Deep Copy\n",
    "Using the map method \n",
    "Using slice() function"
   ]
  },
  {
   "cell_type": "markdown",
   "id": "e4db05ff-c3e9-4837-9271-114645c860ac",
   "metadata": {},
   "source": [
    "### Copy or Clone a List Using Slicing Technique "
   ]
  },
  {
   "cell_type": "raw",
   "id": "bdd4330f-22ce-4d72-930e-6d13dfedd85c",
   "metadata": {},
   "source": [
    "This is the easiest and fastest way to clone a list. This method is considered when we want to modify a list and also keep a copy of the original. In this, we make a copy of the list itself, along with the reference. This process is also called cloning. This technique takes about 0.039 seconds and is the fastest technique. In this example, we are using List Slicing Technique to clone or copy a list."
   ]
  },
  {
   "cell_type": "code",
   "execution_count": null,
   "id": "40507062-fd57-42f5-a9b7-9e9f9e24e3b5",
   "metadata": {},
   "outputs": [],
   "source": [
    "def cloning(l1):\n",
    "    li_copy = l1[:]\n",
    "    return li_copy\n",
    "\n",
    "l1 =  [4, 8, 2, 10, 15, 18]\n",
    "l2 = cloning(l1)\n",
    "print(\"Original List:\",l1)\n",
    "print(\"Origi:\",l1)"
   ]
  }
 ],
 "metadata": {
  "kernelspec": {
   "display_name": "Python 3 (ipykernel)",
   "language": "python",
   "name": "python3"
  },
  "language_info": {
   "codemirror_mode": {
    "name": "ipython",
    "version": 3
   },
   "file_extension": ".py",
   "mimetype": "text/x-python",
   "name": "python",
   "nbconvert_exporter": "python",
   "pygments_lexer": "ipython3",
   "version": "3.11.7"
  }
 },
 "nbformat": 4,
 "nbformat_minor": 5
}
