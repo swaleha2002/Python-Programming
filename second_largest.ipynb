{
 "cells": [
  {
   "cell_type": "markdown",
   "id": "17ff36f1-ebe8-4b3c-a81e-5ee9f4f58c2a",
   "metadata": {},
   "source": [
    "# Python program to find second largest number in a list"
   ]
  },
  {
   "cell_type": "markdown",
   "id": "89267ee0-5247-4346-aa11-bf3aa35ef7bc",
   "metadata": {},
   "source": [
    "# Using Loop"
   ]
  },
  {
   "cell_type": "code",
   "execution_count": null,
   "id": "a97a0682-4044-462d-8e48-f5e53fef66c2",
   "metadata": {},
   "outputs": [],
   "source": [
    "a = [10, 20, 4, 45, 99]\n",
    "# Initialize largest (max1)\n",
    "# and second largest (max2) to negative infinity\n",
    "max1 = max2 = float('-inf')\n",
    "for n in a:\n",
    "    if n > max1:\n",
    "        max2 = max1:\n",
    "        max1 = "
   ]
  }
 ],
 "metadata": {
  "kernelspec": {
   "display_name": "Python 3 (ipykernel)",
   "language": "python",
   "name": "python3"
  },
  "language_info": {
   "codemirror_mode": {
    "name": "ipython",
    "version": 3
   },
   "file_extension": ".py",
   "mimetype": "text/x-python",
   "name": "python",
   "nbconvert_exporter": "python",
   "pygments_lexer": "ipython3",
   "version": "3.11.7"
  }
 },
 "nbformat": 4,
 "nbformat_minor": 5
}
