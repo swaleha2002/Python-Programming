{
 "cells": [
  {
   "cell_type": "markdown",
   "id": "2d452e72-91d3-4220-bead-6b4b731c0d5b",
   "metadata": {},
   "source": [
    "# Python Program to Find Largest Element in an Array"
   ]
  },
  {
   "cell_type": "markdown",
   "id": "071e6a8f-f873-45aa-bc8c-86da7074e0f1",
   "metadata": {},
   "source": [
    "## Find largest element in an array Using Native Approach"
   ]
  },
  {
   "cell_type": "code",
   "execution_count": 3,
   "id": "3c9f8bef-0ee1-4219-b464-5a421757a04c",
   "metadata": {},
   "outputs": [
    {
     "name": "stdout",
     "output_type": "stream",
     "text": [
      "324\n"
     ]
    }
   ],
   "source": [
    "def largest (arr, n):\n",
    "    max = arr[0]\n",
    "    for i in range (1,n):\n",
    "        if arr[i] > max:\n",
    "            max = arr[i]\n",
    "        return max\n",
    "arr = [10, 324, 45, 90, 9808]\n",
    "n = len(arr)\n",
    "ans = largest(arr,n)\n",
    "print(ans)"
   ]
  },
  {
   "cell_type": "markdown",
   "id": "1dee95a1-bce9-4ef0-ae44-7041d9ee1e49",
   "metadata": {},
   "source": [
    "## Find largest element in an array Using built-in function max()"
   ]
  },
  {
   "cell_type": "code",
   "execution_count": null,
   "id": "cdd33959-4755-4b7b-9fd8-4edde63ba635",
   "metadata": {},
   "outputs": [],
   "source": [
    "def largest (arr,n):\n",
    "    ans = max(arr)\n",
    "    return ans:\n",
    "if __name__ == '__main__':\n",
    "    arr = [10, 324, 45, 90, 9808]\n",
    "    n = len(arr)\n",
    "    print(largest(arr,n))"
   ]
  }
 ],
 "metadata": {
  "kernelspec": {
   "display_name": "Python 3 (ipykernel)",
   "language": "python",
   "name": "python3"
  },
  "language_info": {
   "codemirror_mode": {
    "name": "ipython",
    "version": 3
   },
   "file_extension": ".py",
   "mimetype": "text/x-python",
   "name": "python",
   "nbconvert_exporter": "python",
   "pygments_lexer": "ipython3",
   "version": "3.11.7"
  }
 },
 "nbformat": 4,
 "nbformat_minor": 5
}
