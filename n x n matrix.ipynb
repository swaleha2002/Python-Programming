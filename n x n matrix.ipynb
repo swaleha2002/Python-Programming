{
 "cells": [
  {
   "cell_type": "markdown",
   "id": "743984cd-b663-4e42-ad63-bfa8eb1f74c4",
   "metadata": {},
   "source": [
    "# Python – Matrix creation of n*n"
   ]
  },
  {
   "cell_type": "markdown",
   "id": "bf22e5a7-4dce-4302-889c-44a42ebc2589",
   "metadata": {},
   "source": [
    "# Using numpy"
   ]
  },
  {
   "cell_type": "code",
   "execution_count": 12,
   "id": "8df22268-1292-4db1-9709-f9784b273bf6",
   "metadata": {},
   "outputs": [
    {
     "name": "stdout",
     "output_type": "stream",
     "text": [
      "[[0 0 0 0]\n",
      " [0 0 0 0]\n",
      " [0 0 0 0]\n",
      " [0 0 0 0]]\n"
     ]
    }
   ],
   "source": [
    "import numpy as np\n",
    "\n",
    "#specify the size of the matrix\n",
    "n = 4\n",
    "\n",
    "#creates an n*n matrix \n",
    "matrix = np.zeros((n, n), dtype=int)\n",
    "print(matrix)"
   ]
  },
  {
   "cell_type": "markdown",
   "id": "106cd0bf-77cc-4b8d-a6bd-a7216ffbeb1f",
   "metadata": {},
   "source": [
    "# Using pandas DataFrame"
   ]
  },
  {
   "cell_type": "code",
   "execution_count": 13,
   "id": "1bfe7306-e35b-443f-9fe8-bfa675ae784c",
   "metadata": {},
   "outputs": [
    {
     "name": "stdout",
     "output_type": "stream",
     "text": [
      "   A  B  C\n",
      "0  1  2  3\n",
      "1  4  5  6\n",
      "2  7  8  9\n"
     ]
    }
   ],
   "source": [
    "import pandas as pd\n",
    "\n",
    "# Create a 3x3 matrix with labeled rows and columns\n",
    "n = 3\n",
    "matrix = pd.DataFrame([[i * n + j + 1 for j in range(n)] for i in range(n)],\n",
    "                      columns=['A', 'B', 'C'])\n",
    "print(matrix)"
   ]
  },
  {
   "cell_type": "code",
   "execution_count": null,
   "id": "39af8a59-81c9-49d6-8721-c20132f17af5",
   "metadata": {},
   "outputs": [],
   "source": []
  }
 ],
 "metadata": {
  "kernelspec": {
   "display_name": "Python 3 (ipykernel)",
   "language": "python",
   "name": "python3"
  },
  "language_info": {
   "codemirror_mode": {
    "name": "ipython",
    "version": 3
   },
   "file_extension": ".py",
   "mimetype": "text/x-python",
   "name": "python",
   "nbconvert_exporter": "python",
   "pygments_lexer": "ipython3",
   "version": "3.11.7"
  }
 },
 "nbformat": 4,
 "nbformat_minor": 5
}
