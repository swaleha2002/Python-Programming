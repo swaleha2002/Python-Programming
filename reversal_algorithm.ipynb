{
 "cells": [
  {
   "cell_type": "markdown",
   "id": "a03884bf-0ac6-4c56-8f71-adf970301ae5",
   "metadata": {},
   "source": [
    "# Reversal algorithm for Array rotation"
   ]
  },
  {
   "cell_type": "markdown",
   "id": "53a513d4-b731-481c-b548-3aad0dd0a7e3",
   "metadata": {},
   "source": [
    "# Array Rotation\n",
    "Array Rotation simply means shifting the array elements to the left or right of the array by specified positions"
   ]
  },
  {
   "cell_type": "raw",
   "id": "603a38f0-acd5-4029-9a13-96d79a2addb6",
   "metadata": {},
   "source": [
    "\r\n",
    "Algorithm reverse(arr, start, end):\r\n",
    "    mid = (start + end)/2\r\n",
    "    loop from i = start to mid:\r\n",
    "        swap (arr[i], arr[end-(mid-i+1)])\r\n",
    "\r\n",
    "\r\n",
    "Algorithm rotate(arr, d, N):\r\n",
    "    reverse(arr, 1, d) ;\r\n",
    "    reverse(arr, d + 1, N);\r\n",
    "    reverse(arr, 1, N);"
   ]
  },
  {
   "cell_type": "raw",
   "id": "02b02fe1-3ca3-44ff-845f-a11cf11f4bef",
   "metadata": {},
   "source": [
    "Example\n",
    "Input:  arr[] = [1, 2, 3, 4, 5, 6, 7]\n",
    "         d = 2\n",
    "Output: arr[] = [3, 4, 5, 6, 7, 1, 2] "
   ]
  },
  {
   "cell_type": "markdown",
   "id": "5361860b-830b-4edd-99f8-7fe9ccc79545",
   "metadata": {},
   "source": [
    "# 1) Python Program for Reversal Algorithm of Array Rotation"
   ]
  },
  {
   "cell_type": "code",
   "execution_count": 2,
   "id": "de714da5-db40-4650-9d95-e01eb57962d9",
   "metadata": {},
   "outputs": [
    {
     "name": "stdout",
     "output_type": "stream",
     "text": [
      "[3, 4, 5, 6, 7, 1, 2]\n"
     ]
    }
   ],
   "source": [
    "def reverseArray(arr,d):\n",
    "    c = (arr[d:])+(arr[:d])\n",
    "    return c\n",
    "arr = [1, 2, 3, 4, 5, 6, 7]\n",
    "d=2\n",
    "print(reverseArray(arr,d))"
   ]
  },
  {
   "cell_type": "code",
   "execution_count": 4,
   "id": "25dfcdde-f827-4963-8c5e-f459fff6a5af",
   "metadata": {},
   "outputs": [
    {
     "name": "stdout",
     "output_type": "stream",
     "text": [
      "[3, 4, 5, 6, 7]\n"
     ]
    }
   ],
   "source": [
    "arr = [1, 2, 3, 4, 5, 6, 7]\n",
    "d=2\n",
    "print(arr[d:])"
   ]
  },
  {
   "cell_type": "code",
   "execution_count": 5,
   "id": "e16ca74f-fd24-4769-8bd5-77add08d020d",
   "metadata": {},
   "outputs": [
    {
     "name": "stdout",
     "output_type": "stream",
     "text": [
      "[1, 2]\n"
     ]
    }
   ],
   "source": [
    "arr = [1, 2, 3, 4, 5, 6, 7]\n",
    "d=2\n",
    "print(arr[:d])"
   ]
  },
  {
   "cell_type": "markdown",
   "id": "0e05ed8a-bf65-403e-8000-e81a63dfba68",
   "metadata": {},
   "source": [
    "# 2.Python Program for Reversal algorithm for Array Rotation"
   ]
  },
  {
   "cell_type": "markdown",
   "id": "62375eec-c4dd-44e6-a678-f55ad52a3e54",
   "metadata": {},
   "source": [
    "#### Function to reverse arr[] from index start to end\n"
   ]
  },
  {
   "cell_type": "code",
   "execution_count": 7,
   "id": "8bbc1761-d8a4-418a-94ae-6463cc294064",
   "metadata": {},
   "outputs": [],
   "source": [
    "def reverseArray(arr,start,end):\n",
    "    while (start<end):\n",
    "        temp = arr[start]\n",
    "        arr[start] = arr[end]\n",
    "        arr[end] = temp\n",
    "        start += 1\n",
    "        end = end -1"
   ]
  },
  {
   "cell_type": "markdown",
   "id": "0ac4099e-ad62-42c6-af13-222ed874a661",
   "metadata": {},
   "source": [
    "#### Function to left rotate arr[] of size n by d"
   ]
  },
  {
   "cell_type": "code",
   "execution_count": 8,
   "id": "d808c484-aa0b-409d-a284-bb71bd676438",
   "metadata": {},
   "outputs": [],
   "source": [
    "def leftRotate(arr,d):\n",
    "    n = len(arr)\n",
    "    reverseArray(arr,0,d-1)\n",
    "    reverseArray(arr,d,n-1)\n",
    "    reverseArray(arr,0,n-1)\n",
    "    "
   ]
  },
  {
   "cell_type": "markdown",
   "id": "3653d9a1-ac7e-4be5-b3d9-0ca1a226ed2d",
   "metadata": {},
   "source": [
    "#### Function to print an array"
   ]
  },
  {
   "cell_type": "code",
   "execution_count": 9,
   "id": "2e3faba9-ba4f-44d4-9a13-85ca69e8ce30",
   "metadata": {},
   "outputs": [],
   "source": [
    "def printArray(arr):\n",
    "    for i in range(0,len(arr)):\n",
    "        print(arr[i])"
   ]
  },
  {
   "cell_type": "markdown",
   "id": "7481b88e-57e5-4a49-8d75-b65089e1308a",
   "metadata": {},
   "source": [
    "#### Driver function to test above functions"
   ]
  },
  {
   "cell_type": "code",
   "execution_count": 10,
   "id": "08033e6b-4456-438e-bc66-d200923aa080",
   "metadata": {},
   "outputs": [
    {
     "name": "stdout",
     "output_type": "stream",
     "text": [
      "3\n",
      "4\n",
      "5\n",
      "6\n",
      "7\n",
      "1\n",
      "2\n"
     ]
    }
   ],
   "source": [
    "arr = [1, 2, 3, 4, 5, 6, 7]\n",
    "leftRotate(arr, 2) # Rotate array by 2\n",
    "printArray(arr)"
   ]
  },
  {
   "cell_type": "code",
   "execution_count": null,
   "id": "286abf8c-449e-4f95-a5b1-6d4aeabb5525",
   "metadata": {},
   "outputs": [],
   "source": []
  }
 ],
 "metadata": {
  "kernelspec": {
   "display_name": "Python 3 (ipykernel)",
   "language": "python",
   "name": "python3"
  },
  "language_info": {
   "codemirror_mode": {
    "name": "ipython",
    "version": 3
   },
   "file_extension": ".py",
   "mimetype": "text/x-python",
   "name": "python",
   "nbconvert_exporter": "python",
   "pygments_lexer": "ipython3",
   "version": "3.11.7"
  }
 },
 "nbformat": 4,
 "nbformat_minor": 5
}
