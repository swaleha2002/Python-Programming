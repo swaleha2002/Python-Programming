{
 "cells": [
  {
   "cell_type": "markdown",
   "id": "8a92c130-f54c-408d-80c3-9e5dd6e13476",
   "metadata": {},
   "source": [
    "# Python | Get Kth Column of Matrix"
   ]
  },
  {
   "cell_type": "markdown",
   "id": "a962c89e-68a9-4a68-930a-d83f90c791f1",
   "metadata": {},
   "source": [
    "#  Using list comprehension "
   ]
  },
  {
   "cell_type": "code",
   "execution_count": 6,
   "id": "80a86d4c-6b28-4cf8-8493-b38c49034e44",
   "metadata": {},
   "outputs": [
    {
     "name": "stdout",
     "output_type": "stream",
     "text": [
      "The original list is : [[4, 5, 6], [8, 1, 10], [7, 12, 5]]\n",
      "The Kth column of matrix is : [6, 10, 5]\n"
     ]
    }
   ],
   "source": [
    "# initialize list\n",
    "test_list = [[4, 5, 6], [8, 1, 10], [7, 12, 5]]\n",
    " \n",
    "# printing original list\n",
    "print(\"The original list is : \" + str(test_list))\n",
    " \n",
    "# initialize K\n",
    "K = 2\n",
    " \n",
    "# Get Kth Column of Matrix\n",
    "# using list comprehension\n",
    "res = [sub[K] for sub in test_list]\n",
    " \n",
    "# printing result\n",
    "print(\"The Kth column of matrix is : \" + str(res))"
   ]
  },
  {
   "cell_type": "markdown",
   "id": "e3bd5ffd-619d-41c8-ba16-325149d1b121",
   "metadata": {},
   "source": [
    "# Using numpy"
   ]
  },
  {
   "cell_type": "code",
   "execution_count": 7,
   "id": "87c6ef1b-6b99-4b1f-bd33-a5dbe9994389",
   "metadata": {},
   "outputs": [
    {
     "name": "stdout",
     "output_type": "stream",
     "text": [
      "The original list is : [[4, 5, 6], [8, 1, 10], [7, 12, 5]]\n",
      "The Kth column of matrix is : [ 6 10  5]\n"
     ]
    }
   ],
   "source": [
    "import numpy as np\n",
    "# initialize list\n",
    "test_list = [[4, 5, 6], [8, 1, 10], [7, 12, 5]]\n",
    "# printing original list\n",
    "print(\"The original list is : \" + str(test_list))\n",
    "#initialize K\n",
    "K = 2\n",
    "# Get Kth Column of Matrix\n",
    "# using numpy\n",
    "res = np.array(test_list)[:,K]\n",
    "# printing result\n",
    "print(\"The Kth column of matrix is : \" + str(res))"
   ]
  },
  {
   "cell_type": "code",
   "execution_count": null,
   "id": "5c99fafc-cc7a-4908-883c-3f84bcc4bd76",
   "metadata": {},
   "outputs": [],
   "source": []
  }
 ],
 "metadata": {
  "kernelspec": {
   "display_name": "Python 3 (ipykernel)",
   "language": "python",
   "name": "python3"
  },
  "language_info": {
   "codemirror_mode": {
    "name": "ipython",
    "version": 3
   },
   "file_extension": ".py",
   "mimetype": "text/x-python",
   "name": "python",
   "nbconvert_exporter": "python",
   "pygments_lexer": "ipython3",
   "version": "3.11.7"
  }
 },
 "nbformat": 4,
 "nbformat_minor": 5
}
