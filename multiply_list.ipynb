{
 "cells": [
  {
   "cell_type": "markdown",
   "id": "86b47b22-9c13-4cfe-ba87-13ed02da8786",
   "metadata": {},
   "source": [
    "# Using a loop"
   ]
  },
  {
   "cell_type": "code",
   "execution_count": 1,
   "id": "b2ddc0da-8033-4ce0-942b-a3855c44d33c",
   "metadata": {},
   "outputs": [
    {
     "name": "stdout",
     "output_type": "stream",
     "text": [
      "192\n"
     ]
    }
   ],
   "source": [
    "a = [2, 4, 8, 3]\n",
    "res = 1\n",
    "for i in a:\n",
    "    res = res*i\n",
    "print(res)"
   ]
  },
  {
   "cell_type": "markdown",
   "id": "1d8842ba-3868-4bdf-8a2b-59b3b7bdc0f3",
   "metadata": {},
   "source": [
    "# Using reduce() and mul()"
   ]
  },
  {
   "cell_type": "code",
   "execution_count": null,
   "id": "d0d7f28b-0a60-41a6-9b2b-5ae31e094e70",
   "metadata": {},
   "outputs": [],
   "source": []
  }
 ],
 "metadata": {
  "kernelspec": {
   "display_name": "Python 3 (ipykernel)",
   "language": "python",
   "name": "python3"
  },
  "language_info": {
   "codemirror_mode": {
    "name": "ipython",
    "version": 3
   },
   "file_extension": ".py",
   "mimetype": "text/x-python",
   "name": "python",
   "nbconvert_exporter": "python",
   "pygments_lexer": "ipython3",
   "version": "3.11.7"
  }
 },
 "nbformat": 4,
 "nbformat_minor": 5
}
