{
 "cells": [
  {
   "cell_type": "markdown",
   "id": "fd46cdf4-f108-4ac7-b7be-9019076e322a",
   "metadata": {},
   "source": [
    "# Python Program for Array Rotation"
   ]
  },
  {
   "cell_type": "markdown",
   "id": "5bb2bc1d-cce5-40cf-9f91-7d7db318f1b8",
   "metadata": {},
   "source": [
    "## Python Program for Array Rotation Example"
   ]
  },
  {
   "cell_type": "raw",
   "id": "cb695ebb-06c3-4519-9cf3-eca9dccb2e82",
   "metadata": {},
   "source": [
    "Input arr[] = [1, 2, 3, 4, 5, 6, 7, 8], d = 1, size = 8\n",
    "\n",
    "\n",
    "1) Reverse the entire list by swapping first and last numbers\n",
    "\n",
    "\n",
    "   i.e start=0, end=size-1\n",
    "\n",
    "\n",
    "2) Partition the first subarray and reverse the first subarray, by swapping first and last numbers.\n",
    "\n",
    "\n",
    "   i.e start=0, end=size-d-1\n",
    "\n",
    "\n",
    "3) Partition the second subarray and reverse the second subarray, by swapping first and last numbers.\n",
    "\n",
    "\n",
    "   i.e start=size-d, end=size-1"
   ]
  },
  {
   "cell_type": "code",
   "execution_count": 1,
   "id": "864fcb0d-5617-44dc-8890-ba6dcbeb33cc",
   "metadata": {},
   "outputs": [
    {
     "name": "stdout",
     "output_type": "stream",
     "text": [
      "Original array: [1, 2, 3, 4, 5, 6, 7, 8]\n",
      "Rotated array:  [2, 3, 4, 5, 6, 7, 8, 1]\n"
     ]
    }
   ],
   "source": [
    "# Python program to left-rotate the given array\n",
    "# Function reverse the given array\n",
    "# by swapping first and last numbers.\n",
    "def reverse(start,end,arr):\n",
    "    no_of_reverse = end - start + 1\n",
    "    count = 0\n",
    "    while((no_of_reverse)//2 != count):\n",
    "        arr[start + count], arr[end - count] = arr[end-count], arr[start+count]\n",
    "        count = count + 1\n",
    "    return  arr\n",
    " \n",
    "# Function takes array, length of\n",
    "# array and no of rotations as input\n",
    "\n",
    "def left_rotate_array(arr,size,d):\n",
    "    #Reverse the Entire List\n",
    "    start = 0\n",
    "    end = size - 1\n",
    "    arr = reverse(start,end,arr)\n",
    "    # Divide array into twosub-array\n",
    "    # based on no of rotations.\n",
    "    # Divide First sub-array\n",
    "    # Reverse the First sub-array\n",
    "    start = 0\n",
    "    end = size - d - 1\n",
    "    arr = reverse(start,end,arr)\n",
    "    # Divide Second sub-array\n",
    "    # Reverse the Second sub-array\n",
    "    start = size-d\n",
    "    end = size-1\n",
    "    arr = reverse(start, end, arr)\n",
    "    return arr\n",
    "\n",
    "arr = [1, 2, 3, 4, 5, 6, 7, 8]\n",
    "size = 8\n",
    "d = 1\n",
    "print('Original array:', arr)\n",
    " \n",
    "# Finding all the symmetric rotation number\n",
    "if(d <= size):\n",
    "    print('Rotated array: ', left_rotate_array(arr, size, d))\n",
    "else:\n",
    "    d = d % size\n",
    "    print('Rotated array: ', left_rotate_array(arr, size, d))\n",
    " "
   ]
  },
  {
   "cell_type": "markdown",
   "id": "58b3fa40-4bed-45f2-b020-35251d05c283",
   "metadata": {},
   "source": [
    "## Python Program for Array Rotation Using temp array"
   ]
  },
  {
   "cell_type": "code",
   "execution_count": 2,
   "id": "3f4153ec-77f6-4ee1-aab8-956172252f47",
   "metadata": {},
   "outputs": [
    {
     "name": "stdout",
     "output_type": "stream",
     "text": [
      "Array after left rotation is:  [3, 4, 5, 6, 7, 1, 2]\n"
     ]
    }
   ],
   "source": [
    "# function to rotate array by d elements using temp array\n",
    "def rotateArray(arr, n, d):\n",
    "    temp = []\n",
    "    i = 0\n",
    "    while (i < d):\n",
    "        temp.append(arr[i])\n",
    "        i = i + 1\n",
    "    i = 0\n",
    "    while (d < n):\n",
    "        arr[i] = arr[d]\n",
    "        i = i + 1\n",
    "        d = d + 1\n",
    "    arr[:] = arr[: i] + temp\n",
    "    return arr\n",
    " \n",
    " \n",
    "# Driver function to test above function\n",
    "arr = [1, 2, 3, 4, 5, 6, 7]\n",
    "print(\"Array after left rotation is: \", end=' ')\n",
    "print(rotateArray(arr, len(arr), 2))"
   ]
  },
  {
   "cell_type": "code",
   "execution_count": null,
   "id": "297931e8-c797-4b43-b6e0-b2ae8a8957d9",
   "metadata": {},
   "outputs": [],
   "source": []
  }
 ],
 "metadata": {
  "kernelspec": {
   "display_name": "Python 3 (ipykernel)",
   "language": "python",
   "name": "python3"
  },
  "language_info": {
   "codemirror_mode": {
    "name": "ipython",
    "version": 3
   },
   "file_extension": ".py",
   "mimetype": "text/x-python",
   "name": "python",
   "nbconvert_exporter": "python",
   "pygments_lexer": "ipython3",
   "version": "3.11.7"
  }
 },
 "nbformat": 4,
 "nbformat_minor": 5
}
