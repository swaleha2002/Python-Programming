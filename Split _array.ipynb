{
 "cells": [
  {
   "cell_type": "markdown",
   "id": "d2e4d4ae-ca4b-4442-9902-3c65e9ae5c63",
   "metadata": {},
   "source": [
    "# Python Program to Split the array and add the first part to the end"
   ]
  },
  {
   "cell_type": "code",
   "execution_count": 3,
   "id": "8ab3d459-0151-4a39-a9d7-a2e25f3ab230",
   "metadata": {},
   "outputs": [
    {
     "name": "stdout",
     "output_type": "stream",
     "text": [
      "5 6 52 36 12 10 "
     ]
    }
   ],
   "source": [
    "def splitArray(a,n,k):\n",
    "    b = a[:k]\n",
    "    return (a[k::]+b[::])\n",
    "\n",
    "# main code\n",
    "arr = [12,10,5,6,52,36]\n",
    "n = len(arr)\n",
    "position = 2\n",
    "arr = splitArray(arr,n,position)\n",
    "for i in range(0,n):\n",
    "    print(arr[i],end=' ')"
   ]
  },
  {
   "cell_type": "code",
   "execution_count": 4,
   "id": "64785b29-6c3d-4535-8bae-d2bd3c629d68",
   "metadata": {},
   "outputs": [
    {
     "name": "stdout",
     "output_type": "stream",
     "text": [
      "[5, 6, 52, 36]\n"
     ]
    }
   ],
   "source": [
    "a =  [12,10,5,6,52,36]\n",
    "k = 2\n",
    "print(a[k::])"
   ]
  },
  {
   "cell_type": "code",
   "execution_count": 6,
   "id": "025d1fd7-0405-4d06-a8c4-c3b3a5ea48a8",
   "metadata": {},
   "outputs": [
    {
     "name": "stdout",
     "output_type": "stream",
     "text": [
      "[12, 10]\n"
     ]
    }
   ],
   "source": [
    "a =  [12,10,5,6,52,36]\n",
    "k = 2\n",
    "b = a [:k]\n",
    "print(b[::])"
   ]
  },
  {
   "cell_type": "code",
   "execution_count": null,
   "id": "73053f3d-615b-47b2-a502-907ec3e52f37",
   "metadata": {},
   "outputs": [],
   "source": []
  }
 ],
 "metadata": {
  "kernelspec": {
   "display_name": "Python 3 (ipykernel)",
   "language": "python",
   "name": "python3"
  },
  "language_info": {
   "codemirror_mode": {
    "name": "ipython",
    "version": 3
   },
   "file_extension": ".py",
   "mimetype": "text/x-python",
   "name": "python",
   "nbconvert_exporter": "python",
   "pygments_lexer": "ipython3",
   "version": "3.11.7"
  }
 },
 "nbformat": 4,
 "nbformat_minor": 5
}
