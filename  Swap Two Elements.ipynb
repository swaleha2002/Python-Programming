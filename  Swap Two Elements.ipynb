{
 "cells": [
  {
   "cell_type": "markdown",
   "id": "4938da93-ba88-4200-ad0e-88a490ddf577",
   "metadata": {},
   "source": [
    "# Python Program to Swap Two Elements in a List"
   ]
  },
  {
   "cell_type": "code",
   "execution_count": 1,
   "id": "bf7c06a1-41f7-475d-b3d4-eeeb31c38d66",
   "metadata": {},
   "outputs": [
    {
     "name": "stdout",
     "output_type": "stream",
     "text": [
      "[50, 20, 30, 40, 10]\n"
     ]
    }
   ],
   "source": [
    "a = [10,20,30,40,50]\n",
    "a[0],a[4] = a[4],a[0]\n",
    "print(a)"
   ]
  },
  {
   "cell_type": "code",
   "execution_count": null,
   "id": "993ffecd-746e-410b-83dd-c2618cb7d127",
   "metadata": {},
   "outputs": [],
   "source": [
    "a = [10,20,30,40,50]\n",
    "temp = a[2]\n",
    "a[2] = a[4]\n",
    "a[4] = temp\n",
    "prin"
   ]
  }
 ],
 "metadata": {
  "kernelspec": {
   "display_name": "Python 3 (ipykernel)",
   "language": "python",
   "name": "python3"
  },
  "language_info": {
   "codemirror_mode": {
    "name": "ipython",
    "version": 3
   },
   "file_extension": ".py",
   "mimetype": "text/x-python",
   "name": "python",
   "nbconvert_exporter": "python",
   "pygments_lexer": "ipython3",
   "version": "3.11.7"
  }
 },
 "nbformat": 4,
 "nbformat_minor": 5
}
