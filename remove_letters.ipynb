{
 "cells": [
  {
   "cell_type": "markdown",
   "id": "a535b802-da65-4e60-adf6-a0419844e16d",
   "metadata": {},
   "source": [
    "# How to Remove Letters From a String in Python"
   ]
  },
  {
   "cell_type": "markdown",
   "id": "b4f5a03b-8f07-4a36-97df-2de600f3d71b",
   "metadata": {},
   "source": [
    "### Using replace()"
   ]
  },
  {
   "cell_type": "code",
   "execution_count": 3,
   "id": "d3b04edb-f164-40a3-8ac5-98f7889580fe",
   "metadata": {},
   "outputs": [
    {
     "name": "stdout",
     "output_type": "stream",
     "text": [
      "heo word\n"
     ]
    }
   ],
   "source": [
    "s = \"hello world\"\n",
    "s = s.replace(\"l\", \"\")\n",
    "print(s)"
   ]
  },
  {
   "cell_type": "markdown",
   "id": "5a748486-4b49-4e6e-b18c-c6d975d2dd7a",
   "metadata": {},
   "source": [
    "### Using a for loop"
   ]
  },
  {
   "cell_type": "code",
   "execution_count": null,
   "id": "d345a1c9-193f-4dc3-ad20-9af49ecdde40",
   "metadata": {},
   "outputs": [],
   "source": [
    "s = \"hello world\"\n",
    "s1 = \"\"\n",
    "for c in s:\n",
    "    if c != \"o\""
   ]
  }
 ],
 "metadata": {
  "kernelspec": {
   "display_name": "Python 3 (ipykernel)",
   "language": "python",
   "name": "python3"
  },
  "language_info": {
   "codemirror_mode": {
    "name": "ipython",
    "version": 3
   },
   "file_extension": ".py",
   "mimetype": "text/x-python",
   "name": "python",
   "nbconvert_exporter": "python",
   "pygments_lexer": "ipython3",
   "version": "3.11.7"
  }
 },
 "nbformat": 4,
 "nbformat_minor": 5
}
